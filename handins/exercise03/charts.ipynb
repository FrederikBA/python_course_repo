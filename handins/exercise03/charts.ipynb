{
 "cells": [
  {
   "cell_type": "code",
   "execution_count": 3,
   "metadata": {
    "scrolled": false
   },
   "outputs": [],
   "source": [
    "from student import Student\n",
    "from student import Course\n",
    "from student import DataSheet\n",
    "\n",
    "course_list_01 = []\n",
    "course_list_02 = []\n",
    "course_list_03 = []\n",
    "\n",
    "course_list_01.append(Course(\"Python\", \"105\", \"Thomas\", 150, 4))\n",
    "course_list_01.append(Course(\"Game Development\", \"105\", \"Jesper\", 150, 12))\n",
    "course_list_01.append(Course(\"OOA/OOD\", \"105\", \"Kim\", 150, 10))\n",
    "\n",
    "course_list_02.append(Course(\"Matematik\", \"N302\", \"Hans\", 150, 12))\n",
    "course_list_02.append(Course(\"Oldtidskundskab\", \"H108\", \"Jens\", 150, 10))\n",
    "course_list_02.append(Course(\"Idræt\", \"Hallen\", \"Kim\", 150, 2))\n",
    "\n",
    "course_list_03.append(Course(\"Mathematics\", \"101\", \"Gitte\", 150, 10))\n",
    "course_list_03.append(Course(\"Physics\", \"105\", \"Jesper\", 150, 2))\n",
    "course_list_03.append(Course(\"Computer Science\", \"105\", \"Lars\", 150, 12))\n",
    "course_list_03.append(Course(\"Communication\", \"108\", \"Bertild\", 100))\n",
    "\n",
    "d1 = DataSheet(course_list_01)\n",
    "d2 = DataSheet(course_list_02)\n",
    "d3 = DataSheet(course_list_03)\n",
    "\n",
    "s1 = Student(\"Janus\", \"Male\", d1, \"www.image.com\")\n",
    "s2 = Student(\"Rasmus\", \"Male\", d2, \"www.image.com\")\n",
    "s3 = Student(\"Frederik\", \"Male\", d3, \"www.image.com\")\n",
    "\n",
    "student_list = []\n",
    "student_list.append(s1)\n",
    "student_list.append(s2)\n",
    "student_list.append(s3)"
   ]
  },
  {
   "cell_type": "code",
   "execution_count": 4,
   "metadata": {
    "scrolled": false
   },
   "outputs": [
    {
     "data": {
      "image/png": "[encoded data removed]",
      "text/plain": [
       "<Figure size 432x288 with 1 Axes>"
      ]
     },
     "metadata": {
      "needs_background": "light"
     },
     "output_type": "display_data"
    }
   ],
   "source": [
    "import matplotlib.pyplot as plt\n",
    "import math\n",
    "\n",
    "categories = [10, 20, 30, 40, 50, 60, 70, 80, 90, 100]\n",
    "\n",
    "progression = [math.floor(student.show_progession()/10)*10 for student in student_list]\n",
    "\n",
    "category_dict = {category: progression.count(category) for category in categories}\n",
    "\n",
    "plt.bar(category_dict.keys(), category_dict.values(), width=7.5, linewidth=0, align=\"center\")\n",
    "plt.title('Student Progression', fontsize=12)\n",
    "plt.xlabel('Course Completion in %')\n",
    "plt.ylabel('Number of students')\n",
    "plt.ticklabel_format(useOffset=False)\n",
    "plt.xticks(categories)\n",
    "plt.ticklabel_format(useOffset=False)\n",
    "plt.tick_params(axis='both', which='major', labelsize=10)\n",
    "plt.axis([0, 110, 0, 5]) # starting instead from 0 on y-axis\n",
    "plt.show()\n"
   ]
  },
  {
   "cell_type": "code",
   "execution_count": 5,
   "metadata": {},
   "outputs": [
    {
     "data": {
      "image/png": "[encoded data removed]",
      "text/plain": [
       "<Figure size 432x288 with 1 Axes>"
      ]
     },
     "metadata": {},
     "output_type": "display_data"
    }
   ],
   "source": [
    "import matplotlib.pyplot as plt\n",
    "import math\n",
    "\n",
    "categories = [10, 20, 30, 40, 50, 60, 70, 80, 90, 100]\n",
    "\n",
    "progression = [math.floor(student.show_progession()/10)*10 for student in student_list]\n",
    "\n",
    "category_dict = {category: progression.count(category) for category in categories}\n",
    "\n",
    "def show_pie_chart_progression(values_dict):\n",
    "    plt.pie(values_dict.values(), labels = categories)\n",
    "    plt.show()\n",
    "    \n",
    "show_pie_chart_progression(category_dict)    "
   ]
  },
  {
   "cell_type": "code",
   "execution_count": null,
   "metadata": {},
   "outputs": [],
   "source": []
  }
 ],
 "metadata": {
  "kernelspec": {
   "display_name": "Python 3",
   "language": "python",
   "name": "python3"
  },
  "language_info": {
   "codemirror_mode": {
    "name": "ipython",
    "version": 3
   },
   "file_extension": ".py",
   "mimetype": "text/x-python",
   "name": "python",
   "nbconvert_exporter": "python",
   "pygments_lexer": "ipython3",
   "version": "3.7.6"
  }
 },
 "nbformat": 4,
 "nbformat_minor": 4
}
