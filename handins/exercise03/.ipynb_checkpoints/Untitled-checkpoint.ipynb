{
 "cells": [
  {
   "cell_type": "code",
   "execution_count": null,
   "metadata": {},
   "outputs": [],
   "source": [
    "from student import Student\n",
    "from student import Course\n",
    "from student import DataSheet\n",
    "\n",
    "course_list_01 = []\n",
    "course_list_02 = []\n",
    "course_list_03 = []\n",
    "\n",
    "course_list_01.append(Course(\"Python\", \"105\", \"Thomas\", 150, 4))\n",
    "course_list_01.append(Course(\"Game Development\", \"105\", \"Jesper\", 150, 12))\n",
    "course_list_01.append(Course(\"OOA/OOD\", \"105\", \"Kim\", 150, 10))\n",
    "\n",
    "course_list_02.append(Course(\"Python\", \"105\", \"Thomas\", 150, 4))\n",
    "course_list_02.append(Course(\"Game Development\", \"105\", \"Jesper\", 150, 12))\n",
    "course_list_02.append(Course(\"OOA/OOD\", \"105\", \"Kim\", 150, 10))\n",
    "\n",
    "course_list_03.append(Course(\"Python\", \"105\", \"Thomas\", 150, 4))\n",
    "course_list_03.append(Course(\"Game Development\", \"105\", \"Jesper\", 150, 12))\n",
    "course_list_03.append(Course(\"OOA/OOD\", \"105\", \"Kim\", 150, 10))\n",
    "\n",
    "d1 = DataSheet(course_list_01)\n",
    "d2 = DataSheet(course_list_02)\n",
    "d3 = DataSheet(course_list_03)\n",
    "\n",
    "s1 = Student(\"Janus\", \"Male\", d1, \"www.image.com\")\n",
    "s2 = Student(\"Rasmus\", \"Male\", d2, \"www.image.com\")\n",
    "s3 = Student(\"Frederik\", \"Male\", d3, \"www.image.com\")\n",
    "\n",
    "student_list = []\n",
    "student_list.append(s1)\n",
    "student_list.append(s2)\n",
    "student_list.append(s3)"
   ]
  },
  {
   "cell_type": "code",
   "execution_count": null,
   "metadata": {},
   "outputs": [],
   "source": [
    "%matplotlib notebook\n",
    "import matplotlib.pyplot as plt\n",
    "import math\n",
    "\n",
    "categories = [10, 20, 30, 40, 50, 60, 70, 80, 90, 100]\n",
    "progression = [math.floor(student.show_progession()/10)*10 for student in student_list]\n",
    "\n",
    "print(progression)\n",
    "print(\"Hello World\")"
   ]
  },
  {
   "cell_type": "code",
   "execution_count": null,
   "metadata": {},
   "outputs": [],
   "source": []
  }
 ],
 "metadata": {
  "kernelspec": {
   "display_name": "Python 3",
   "language": "python",
   "name": "python3"
  },
  "language_info": {
   "codemirror_mode": {
    "name": "ipython",
    "version": 3
   },
   "file_extension": ".py",
   "mimetype": "text/x-python",
   "name": "python",
   "nbconvert_exporter": "python",
   "pygments_lexer": "ipython3",
   "version": "3.7.6"
  }
 },
 "nbformat": 4,
 "nbformat_minor": 4
}
