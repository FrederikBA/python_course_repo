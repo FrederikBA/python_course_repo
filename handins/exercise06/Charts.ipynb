{
 "cells": [
  {
   "cell_type": "code",
   "execution_count": 7,
   "metadata": {},
   "outputs": [
    {
     "data": {
      "text/plain": [
       "1.5900679315999062"
      ]
     },
     "execution_count": 7,
     "metadata": {},
     "output_type": "execute_result"
    }
   ],
   "source": [
    "from exercise01 import TextComparer\n",
    "\n",
    "textComp = TextComparer([\"https://www.gutenberg.org/files/11/11-0.txt\",\n",
    "        \"https://www.gutenberg.org/files/1342/1342-0.txt\",\n",
    "        \"https://www.gutenberg.org/files/345/345-0.txt\",\n",
    "        \"https://www.gutenberg.org/files/4217/4217-0.txt\",\n",
    "        \"https://www.gutenberg.org/files/113/113-0.txt\",\n",
    "        \"https://www.gutenberg.org/ebooks/1597.txt.utf-8\",\n",
    "        \"https://www.gutenberg.org/ebooks/4363.txt.utf-8\",\n",
    "        \"https://www.gutenberg.org/ebooks/19942.txt.utf-8\",\n",
    "        \"https://www.gutenberg.org/files/63256/63256-0.txt\",\n",
    "        \"https://www.gutenberg.org/ebooks/67599.txt.utf-8\",])\n",
    "\n",
    "textComp.avg_vowels(textComp.file_list[0])\n"
   ]
  },
  {
   "cell_type": "code",
   "execution_count": null,
   "metadata": {},
   "outputs": [],
   "source": []
  }
 ],
 "metadata": {
  "kernelspec": {
   "display_name": "Python 3",
   "language": "python",
   "name": "python3"
  },
  "language_info": {
   "codemirror_mode": {
    "name": "ipython",
    "version": 3
   },
   "file_extension": ".py",
   "mimetype": "text/x-python",
   "name": "python",
   "nbconvert_exporter": "python",
   "pygments_lexer": "ipython3",
   "version": "3.7.6"
  }
 },
 "nbformat": 4,
 "nbformat_minor": 4
}
