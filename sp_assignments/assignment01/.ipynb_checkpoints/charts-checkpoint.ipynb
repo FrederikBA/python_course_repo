{
 "cells": [
  {
   "cell_type": "code",
   "execution_count": 3,
   "metadata": {},
   "outputs": [
    {
     "name": "stdout",
     "output_type": "stream",
     "text": [
      "{'PG-13': 363, 'R': 194, 'PG': 173, 'G': 14, 'Not available': 174}\n"
     ]
    }
   ],
   "source": [
    "import movies\n",
    "import matplotlib.pyplot as plt\n",
    "\n",
    "license_distribution = movies.license_distribution()\n",
    "\n",
    "def show_pie_chart_progression(values_dict):\n",
    "    plt.pie(values_dict.values(), labels = categories)\n",
    "    plt.show()\n",
    "\n",
    "print(license_distribution)"
   ]
  }
 ],
 "metadata": {
  "kernelspec": {
   "display_name": "Python 3",
   "language": "python",
   "name": "python3"
  },
  "language_info": {
   "codemirror_mode": {
    "name": "ipython",
    "version": 3
   },
   "file_extension": ".py",
   "mimetype": "text/x-python",
   "name": "python",
   "nbconvert_exporter": "python",
   "pygments_lexer": "ipython3",
   "version": "3.7.6"
  }
 },
 "nbformat": 4,
 "nbformat_minor": 4
}
